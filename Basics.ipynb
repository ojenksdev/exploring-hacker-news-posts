{
 "cells": [
  {
   "cell_type": "markdown",
   "metadata": {
    "collapsed": true
   },
   "source": [
    "# Exploring Hacker News Posts\n",
    "\n",
    "In this project, I am going to explore the dataset from Hacker News, and compare two different types of posts. What I am trying to find out is if one type receives more comments than the other on average. I am also wondering if posts created at a certain time receive more comments than at different times."
   ]
  },
  {
   "cell_type": "code",
   "execution_count": 1,
   "metadata": {
    "collapsed": false
   },
   "outputs": [
    {
     "name": "stdout",
     "output_type": "stream",
     "text": [
      "[['id', 'title', 'url', 'num_points', 'num_comments', 'author', 'created_at'], ['12224879', 'Interactive Dynamic Video', 'http://www.interactivedynamicvideo.com/', '386', '52', 'ne0phyte', '8/4/2016 11:52'], ['10975351', 'How to Use Open Source and Shut the Fuck Up at the Same Time', 'http://hueniverse.com/2016/01/26/how-to-use-open-source-and-shut-the-fuck-up-at-the-same-time/', '39', '10', 'josep2', '1/26/2016 19:30'], ['11964716', \"Florida DJs May Face Felony for April Fools' Water Joke\", 'http://www.thewire.com/entertainment/2013/04/florida-djs-april-fools-water-joke/63798/', '2', '1', 'vezycash', '6/23/2016 22:20'], ['11919867', 'Technology ventures: From Idea to Enterprise', 'https://www.amazon.com/Technology-Ventures-Enterprise-Thomas-Byers/dp/0073523429', '3', '1', 'hswarna', '6/17/2016 0:01']]\n"
     ]
    }
   ],
   "source": [
    "import csv\n",
    "f = open(\"hacker_news.csv\", \"r\")\n",
    "f_read = csv.reader(f)\n",
    "hn = list(f_read)\n",
    "\n",
    "print(hn[:5])"
   ]
  },
  {
   "cell_type": "code",
   "execution_count": 2,
   "metadata": {
    "collapsed": false
   },
   "outputs": [
    {
     "name": "stdout",
     "output_type": "stream",
     "text": [
      "['id', 'title', 'url', 'num_points', 'num_comments', 'author', 'created_at']\n",
      "[['12224879', 'Interactive Dynamic Video', 'http://www.interactivedynamicvideo.com/', '386', '52', 'ne0phyte', '8/4/2016 11:52'], ['10975351', 'How to Use Open Source and Shut the Fuck Up at the Same Time', 'http://hueniverse.com/2016/01/26/how-to-use-open-source-and-shut-the-fuck-up-at-the-same-time/', '39', '10', 'josep2', '1/26/2016 19:30'], ['11964716', \"Florida DJs May Face Felony for April Fools' Water Joke\", 'http://www.thewire.com/entertainment/2013/04/florida-djs-april-fools-water-joke/63798/', '2', '1', 'vezycash', '6/23/2016 22:20'], ['11919867', 'Technology ventures: From Idea to Enterprise', 'https://www.amazon.com/Technology-Ventures-Enterprise-Thomas-Byers/dp/0073523429', '3', '1', 'hswarna', '6/17/2016 0:01'], ['10301696', 'Note by Note: The Making of Steinway L1037 (2007)', 'http://www.nytimes.com/2007/11/07/movies/07stein.html?_r=0', '8', '2', 'walterbell', '9/30/2015 4:12']]\n"
     ]
    }
   ],
   "source": [
    "headers = hn[0]\n",
    "hn = hn[1:]\n",
    "\n",
    "print(headers)\n",
    "print(hn[:5])"
   ]
  },
  {
   "cell_type": "code",
   "execution_count": 3,
   "metadata": {
    "collapsed": true
   },
   "outputs": [],
   "source": [
    "ask_posts = []\n",
    "show_posts = []\n",
    "other_posts = []\n",
    "\n",
    "for r in hn:\n",
    "    title = r[1]\n",
    "    if title.lower().startswith(\"ask hn\"):\n",
    "        ask_posts.append(r)\n",
    "    elif title.lower().startswith(\"show hn\"):\n",
    "        show_posts.append(r)\n",
    "    else:\n",
    "        other_posts.append(r)\n",
    "        \n"
   ]
  },
  {
   "cell_type": "code",
   "execution_count": 4,
   "metadata": {
    "collapsed": false
   },
   "outputs": [
    {
     "name": "stdout",
     "output_type": "stream",
     "text": [
      "1744\n",
      "1162\n",
      "17194\n"
     ]
    }
   ],
   "source": [
    "print(len(ask_posts))\n",
    "print(len(show_posts))\n",
    "print(len(other_posts))"
   ]
  },
  {
   "cell_type": "markdown",
   "metadata": {},
   "source": [
    "**Now we will look to see how many comments each type of post received**"
   ]
  },
  {
   "cell_type": "code",
   "execution_count": 5,
   "metadata": {
    "collapsed": false
   },
   "outputs": [
    {
     "name": "stdout",
     "output_type": "stream",
     "text": [
      "24483\n",
      "14.038417431192661\n"
     ]
    }
   ],
   "source": [
    "total_ask_comments = 0\n",
    "\n",
    "for comments in ask_posts:\n",
    "    new_com = int(comments[4])\n",
    "    total_ask_comments += new_com\n",
    "    \n",
    "avg_ask_comments = total_ask_comments / len(ask_posts)\n",
    "print(total_ask_comments)\n",
    "print(avg_ask_comments)\n",
    "\n"
   ]
  },
  {
   "cell_type": "code",
   "execution_count": 6,
   "metadata": {
    "collapsed": false
   },
   "outputs": [
    {
     "name": "stdout",
     "output_type": "stream",
     "text": [
      "11988\n",
      "10.31669535283993\n"
     ]
    }
   ],
   "source": [
    "total_show_comments = 0\n",
    "\n",
    "for comments in show_posts:\n",
    "    new_com = int(comments[4])\n",
    "    total_show_comments += new_com\n",
    "    \n",
    "avg_show_comments = total_show_comments / len(show_posts)\n",
    "print(total_show_comments)\n",
    "print(avg_show_comments)"
   ]
  },
  {
   "cell_type": "markdown",
   "metadata": {},
   "source": [
    "Looking at the data from averages of the two lists we can see that posts that are **Ask Posts** seem to receive more comments than **Show Posts** do. However, we can also see that there are double the amount of Ask posts than Show posts. This could mean more people submit Ask posts than Show posts.\n",
    "\n",
    "Since **Ask Posts** has more data to work with than Show Posts, we'll focus on that. The next step in this process is finding out if the time of the post has any affect on the amount of comments it receives:"
   ]
  },
  {
   "cell_type": "code",
   "execution_count": 11,
   "metadata": {
    "collapsed": false
   },
   "outputs": [
    {
     "name": "stdout",
     "output_type": "stream",
     "text": [
      "{'08': 492, '04': 337, '13': 1253, '18': 1439, '02': 1381, '01': 683, '10': 793, '21': 1745, '20': 1722, '23': 543, '07': 267, '22': 479, '12': 687, '00': 447, '17': 1146, '15': 4477, '19': 1188, '05': 464, '16': 1814, '09': 251, '11': 641, '03': 421, '14': 1416, '06': 397}\n"
     ]
    }
   ],
   "source": [
    "import datetime as dt\n",
    "\n",
    "result_list = []\n",
    "\n",
    "for r in ask_posts:\n",
    "    created_at = r[6]\n",
    "    num_comments = int(r[4])\n",
    "    result_list.append([created_at, num_comments])\n",
    "    \n",
    "counts_by_hour = {}\n",
    "comments_by_hour = {}\n",
    "\n",
    "\n",
    "for row in result_list:\n",
    "    date_time = row[0]\n",
    "    comment_count = row[1]\n",
    "    new_date = dt.datetime.strptime(date_time, \"%m/%d/%Y %H:%M\")\n",
    "    just_hour = new_date.strftime(\"%H\")\n",
    "    if just_hour not in counts_by_hour:\n",
    "        counts_by_hour[just_hour] = 1\n",
    "        comments_by_hour[just_hour] = comment_count\n",
    "    else:\n",
    "        counts_by_hour[just_hour] += 1\n",
    "        comments_by_hour[just_hour] += comment_count\n",
    "        \n",
    "print(comments_by_hour)\n",
    "        "
   ]
  },
  {
   "cell_type": "code",
   "execution_count": 17,
   "metadata": {
    "collapsed": false
   },
   "outputs": [
    {
     "name": "stdout",
     "output_type": "stream",
     "text": [
      "[['08', 10.25], ['04', 7.170212765957447], ['13', 14.741176470588234], ['18', 13.20183486238532], ['02', 23.810344827586206], ['01', 11.383333333333333], ['10', 13.440677966101696], ['21', 16.009174311926607], ['20', 21.525], ['23', 7.985294117647059], ['07', 7.852941176470588], ['22', 6.746478873239437], ['12', 9.41095890410959], ['00', 8.127272727272727], ['17', 11.46], ['15', 38.5948275862069], ['19', 10.8], ['05', 10.08695652173913], ['16', 16.796296296296298], ['09', 5.5777777777777775], ['11', 11.051724137931034], ['03', 7.796296296296297], ['14', 13.233644859813085], ['06', 9.022727272727273]]\n"
     ]
    }
   ],
   "source": [
    "avg_by_hour = []\n",
    "\n",
    "for hour in comments_by_hour:\n",
    "    avg_by_hour.append([hour, comments_by_hour[hour] /counts_by_hour[hour]])\n",
    "            \n",
    "print(avg_by_hour)"
   ]
  },
  {
   "cell_type": "code",
   "execution_count": 24,
   "metadata": {
    "collapsed": false
   },
   "outputs": [
    {
     "name": "stdout",
     "output_type": "stream",
     "text": [
      "[[10.25, '08'], [7.170212765957447, '04'], [14.741176470588234, '13'], [13.20183486238532, '18'], [23.810344827586206, '02'], [11.383333333333333, '01'], [13.440677966101696, '10'], [16.009174311926607, '21'], [21.525, '20'], [7.985294117647059, '23'], [7.852941176470588, '07'], [6.746478873239437, '22'], [9.41095890410959, '12'], [8.127272727272727, '00'], [11.46, '17'], [38.5948275862069, '15'], [10.8, '19'], [10.08695652173913, '05'], [16.796296296296298, '16'], [5.5777777777777775, '09'], [11.051724137931034, '11'], [7.796296296296297, '03'], [13.233644859813085, '14'], [9.022727272727273, '06']]\n",
      "\n",
      "Top 5 Hours Ask Posts Comments\n",
      "15:00: 38.59 average comments per post\n",
      "02:00: 23.81 average comments per post\n",
      "20:00: 21.52 average comments per post\n",
      "16:00: 16.80 average comments per post\n",
      "21:00: 16.01 average comments per post\n"
     ]
    }
   ],
   "source": [
    "swap_avg_by_hour = []\n",
    "\n",
    "for r in avg_by_hour:\n",
    "    first = r[1]\n",
    "    second = r[0]\n",
    "    swap_avg_by_hour.append([first, second])\n",
    "    \n",
    "print(swap_avg_by_hour)\n",
    "\n",
    "sorted_swap = sorted(swap_avg_by_hour, reverse=True)\n",
    "\n",
    "print(\"\\nTop 5 Hours Ask Posts Comments\")\n",
    "\n",
    "for row in sorted_swap[:5]:\n",
    "    t_hour = row[1]\n",
    "    dt_hour = dt.datetime.strptime(t_hour, \"%H\")\n",
    "    fmt_hour = dt_hour.strftime(\"%H:%M\")\n",
    "    full_statement = \"{}: {:.2f} average comments per post\".format(fmt_hour, row[0])\n",
    "    print(full_statement)\n",
    "    \n",
    "    \n",
    "    \n",
    "    \n",
    "    \n"
   ]
  },
  {
   "cell_type": "markdown",
   "metadata": {},
   "source": [
    "###Summary\n",
    "The best time to create an **Ask Post** is 15:00 (I'm in central time so that would be 3pm my time). Creating a post at this time of the day will on average receive "
   ]
  }
 ],
 "metadata": {
  "kernelspec": {
   "display_name": "Python 3",
   "language": "python",
   "name": "python3"
  },
  "language_info": {
   "codemirror_mode": {
    "name": "ipython",
    "version": 3
   },
   "file_extension": ".py",
   "mimetype": "text/x-python",
   "name": "python",
   "nbconvert_exporter": "python",
   "pygments_lexer": "ipython3",
   "version": "3.4.3"
  }
 },
 "nbformat": 4,
 "nbformat_minor": 2
}
